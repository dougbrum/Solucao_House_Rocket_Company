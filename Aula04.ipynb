{
 "cells": [
  {
   "cell_type": "markdown",
   "id": "lined-segment",
   "metadata": {},
   "source": [
    "# NOVAS PERGUNTAS DO CEO"
   ]
  },
  {
   "cell_type": "markdown",
   "id": "caroline-startup",
   "metadata": {},
   "source": [
    "# 0.0 Imports"
   ]
  },
  {
   "cell_type": "code",
   "execution_count": 1,
   "id": "answering-waters",
   "metadata": {},
   "outputs": [],
   "source": [
    "import pandas as pd\n",
    "import numpy as np\n",
    "from datetime import datetime\n",
    "from matplotlib import pyplot as plt\n",
    "from matplotlib import gridspec \n",
    "import ipywidgets as widgets\n",
    "from ipywidgets import fixed\n",
    "import plotly.express as px\n",
    "import seaborn as sns\n",
    "from ipywidgets import interact, interactive, fixed, interact_manual"
   ]
  },
  {
   "cell_type": "code",
   "execution_count": null,
   "id": "victorian-window",
   "metadata": {},
   "outputs": [],
   "source": [
    "# pip install ipywidgets"
   ]
  },
  {
   "cell_type": "code",
   "execution_count": null,
   "id": "loose-machine",
   "metadata": {},
   "outputs": [],
   "source": [
    "# pip install geopy"
   ]
  },
  {
   "cell_type": "markdown",
   "id": "constant-pocket",
   "metadata": {},
   "source": []
  },
  {
   "cell_type": "markdown",
   "id": "comparative-exhibition",
   "metadata": {},
   "source": [
    "## 0.1. Loading Data"
   ]
  },
  {
   "cell_type": "code",
   "execution_count": 2,
   "id": "classical-merchant",
   "metadata": {},
   "outputs": [],
   "source": [
    "data = pd.read_csv('kc_house_data.csv')"
   ]
  },
  {
   "cell_type": "markdown",
   "id": "rural-cincinnati",
   "metadata": {},
   "source": [
    "###                 1.Qual a quantidade de imóveis por nível?\n",
    "     - Nivel 0: Preço entre R$ 0.00 e R$ 321.950\n",
    "     - Nível 1: Preço entre R$ 321.950 e R$ 450.00\n",
    "     - Nível 2: Preço entre R$ 450.00 e R$ 645.00\n",
    "     - Nível 3: Preço acima de R$ 645.00"
   ]
  },
  {
   "cell_type": "code",
   "execution_count": 3,
   "id": "educated-mambo",
   "metadata": {},
   "outputs": [],
   "source": [
    "data['nivel'] = 'NA'\n",
    "for i in range(len(data)):\n",
    "    if (data.loc[i, 'price']>0) & (data.loc[i,'price'] < 321950):\n",
    "        data.loc[i, 'nivel'] = 'nivel_0'\n",
    "            \n",
    "    elif (data.loc[i, 'price'] >= 321950 ) & (data.loc[i, 'price'] < 450000):\n",
    "        data.loc[i, 'nivel'] = 'nivel_1'\n",
    "        \n",
    "    elif (data.loc[i, 'price'] >= 450000) & (data.loc[i, 'price'] < 645000):\n",
    "        data.loc[i, 'nivel'] = 'nivel_2'\n",
    "        \n",
    "    else:\n",
    "        data.loc[i, 'nivel'] = 'nivel_3'"
   ]
  },
  {
   "cell_type": "markdown",
   "id": "suspended-helena",
   "metadata": {},
   "source": [
    "### 2.Qual é a média do tamanho da sala de estar dos imóveis por 'size'?\n",
    "     - Size 0: Tamanho entre  0 e  1427 sqft\n",
    "     - Size 1: Tamanho entre  1427 e 1910 sqft\n",
    "     - Size 2: Tamanho entre  1910 e 2550 sqft\n",
    "     - Size 3: Tamanho acima de 2550 sqft"
   ]
  },
  {
   "cell_type": "code",
   "execution_count": 4,
   "id": "designed-easter",
   "metadata": {},
   "outputs": [],
   "source": [
    "data['size'] = 'NA'\n",
    "for i in range(len(data)):\n",
    "    \n",
    "    if (data.loc[i, 'sqft_living'] > 0) & (data.loc[i, 'sqft_living']<1427):\n",
    "        data.loc[i, 'size'] = 'size_0'\n",
    "    \n",
    "    elif (data.loc[i, 'sqft_living'] >= 1427) & (data.loc[i, 'sqft_living']<1910):\n",
    "        data.loc[i, 'size'] = 'size_1'\n",
    "        \n",
    "    elif (data.loc[i, 'sqft_living'] >= 1910) & (data.loc[i, 'sqft_living']<2550):\n",
    "        data.loc[i, 'size'] = 'size_2'\n",
    "        \n",
    "    else:\n",
    "        data.loc[i, 'size'] = 'size_3'        "
   ]
  },
  {
   "cell_type": "markdown",
   "id": "academic-alloy",
   "metadata": {},
   "source": [
    "### 3.Adicione as seguintes informações ao conjunto de dados originais:\n",
    "    - Place Id: identificação da localização\n",
    "    - OSM Type: Open Street Map type\n",
    "    - Country: Nome do País\n",
    "    - Country Code: Código do País"
   ]
  },
  {
   "cell_type": "code",
   "execution_count": 5,
   "id": "english-spring",
   "metadata": {},
   "outputs": [],
   "source": [
    "#from geopy.geocoders import Nominatim\n",
    "\n",
    "## Create empty rows\n",
    "#data['place_id'] = 'NA'\n",
    "#data['osm_type'] = 'NA'\n",
    "#data['country'] = 'NA'\n",
    "#data['country_code'] = 'NA'\n",
    "\n",
    "#geolocator = Nominatim(user_agent = 'geoapiExercises')\n",
    "\n",
    "#for i in range(len(data)):\n",
    "#    print('Loop:{} / {}'.format(i, len(data)))\n",
    "\n",
    "## make query\n",
    "#query = str(data.loc[i, 'lat']) +','+ str(data.loc[i, 'long'])\n",
    "## API Request\n",
    "#response = geolocator.reverse(query)\n",
    "\n",
    "## Populate data\n",
    "\n",
    "#if 'place_id' in response.raw['address']:\n",
    "#    data.loc[i, 'place_id'] = response.raw['address']['place_id']\n",
    "    \n",
    "#if 'osm_type' in response.raw['address']:\n",
    "#    data.loc[i, 'osm_type'] = response.raw['address']['osm_type']\n",
    "    \n",
    "#if 'country' in response.raw['address']:\n",
    "#    data.loc[i, 'country'] = response.raw['address']['country']\n",
    "    \n",
    "#if 'contry_code' in response.raw['address']:\n",
    "#    data.loc[i,'country_code'] = response.raw['address']['country_code']"
   ]
  },
  {
   "cell_type": "code",
   "execution_count": 6,
   "id": "automotive-borough",
   "metadata": {},
   "outputs": [],
   "source": [
    "from geopy.geocoders import Nominatim\n",
    "\n",
    "geolocator = Nominatim(user_agent='geopyExercises')\n",
    "\n",
    "query = '47.5112, -122.257'\n",
    "response = geolocator.reverse(query)"
   ]
  },
  {
   "cell_type": "code",
   "execution_count": 7,
   "id": "elect-beginning",
   "metadata": {},
   "outputs": [],
   "source": [
    "import time \n",
    "from multiprocessing import Pool"
   ]
  },
  {
   "cell_type": "code",
   "execution_count": 8,
   "id": "collected-operations",
   "metadata": {},
   "outputs": [],
   "source": [
    "data['query'] = data[['lat', 'long']].apply(lambda x: str(x['lat'])+','+str(x['long']), axis = 1)"
   ]
  },
  {
   "cell_type": "code",
   "execution_count": 9,
   "id": "surgical-native",
   "metadata": {},
   "outputs": [],
   "source": [
    "def get_data(x):\n",
    "    index, row = x\n",
    "    time.sleep(1)\n",
    "    \n",
    "    #chamada API\n",
    "    response = geolocator.reverse(row['query'])\n",
    "    \n",
    "    place_id = response.raw['place_id']\n",
    "    osm_type = response.raw['osm_type']\n",
    "    country = response.raw['address']['country']\n",
    "    country_code = response.raw['address']['country_code']\n",
    "    \n",
    "    return place_id, osm_type, country, country_code"
   ]
  },
  {
   "cell_type": "code",
   "execution_count": 10,
   "id": "digital-restoration",
   "metadata": {},
   "outputs": [],
   "source": [
    "#import defs\n",
    "\n",
    "#df1 = data[['id', 'query']].sample(10)\n",
    "\n",
    "#p = Pool(3)\n",
    "\n",
    "#start =time.process_time()\n",
    "#df1[['place_id', 'osm_type', 'country', 'country_code']] = p.map(defs.get_data, df1.iterrows())\n",
    "#end = time.process_time()\n",
    "\n",
    "#print('Time Elapsed: {}', end-start)"
   ]
  },
  {
   "cell_type": "markdown",
   "id": "instrumental-hebrew",
   "metadata": {},
   "source": [
    "### 4.Adicione os seguintes filtros no mapa:\n",
    "    - Tamanho mínimo da área da sala de estar.\n",
    "    - Número mínimo de banheiros.\n",
    "    - Valor máximo do preço.\n",
    "    - Tamanho máximo da área do porão.\n",
    "    - Filtro das condições do imóvel.\n",
    "    - Filtro por ano de construção."
   ]
  },
  {
   "cell_type": "code",
   "execution_count": 11,
   "id": "uniform-egypt",
   "metadata": {},
   "outputs": [],
   "source": [
    "data['is_waterfront'] = data['waterfront'].apply( lambda x: 'yes' if x == 1 else 'no' )\n",
    "\n",
    "# define level of prices\n",
    "\n",
    "data['level'] = data['price'].apply( lambda x: 0 if x <= 321950 \n",
    "                                    else 1 if ( x > 321950 ) & ( x <= 450000)\n",
    "                                    else 2 if ( x > 450000 ) & ( x <= 645000) else 3 )\n",
    "data['level'] = data['level'].astype( int )\n",
    "\n",
    "# Iteractive buttons\n",
    "\n",
    "price_limit = widgets.IntSlider( \n",
    "    value = 540000,\n",
    "    min = 75000,\n",
    "    max = 7700000,\n",
    "    step = 1,\n",
    "    description='Maximun Price',\n",
    "    disable=False,\n",
    "    style={'description_width': 'initial'}\n",
    "    )\n",
    "\n",
    "waterfront_bar = widgets.Dropdown(\n",
    "    options = data['is_waterfront'].unique().tolist(),\n",
    "    value = 'yes',\n",
    "    description = 'Water View',\n",
    "    disable=False\n",
    "    )\n",
    "\n",
    "livingroom_limit = widgets.IntSlider( \n",
    "    value = int( data['sqft_living'].mean() ),\n",
    "    min = data['sqft_living'].min(),\n",
    "    max = data['sqft_living'].max(),\n",
    "    step = 1,\n",
    "    description='Minimum Living Room Size',\n",
    "    disable=False,\n",
    "    style={'description_width': 'initial'}\n",
    "    )\n",
    "\n",
    "bathroom_limit = widgets.IntSlider(\n",
    "    value = int( data['bathrooms'].mean() ),\n",
    "    min = data['bathrooms'].min(),\n",
    "    max = data['bathrooms'].max(),\n",
    "    step = 1,\n",
    "    description='Minimum Bathroom Number',\n",
    "    disable=False,\n",
    "    style={'description_width': 'initial'}\n",
    "    )\n",
    "basement_limit = widgets.IntSlider(\n",
    "    value = int( data['sqft_basement'].mean() ),\n",
    "    min = data['sqft_basement'].min(),\n",
    "    max = data['sqft_basement'].max(),\n",
    "    step = 1,\n",
    "    description='Minimum Basement Size',\n",
    "    disable=False,\n",
    "    style={'description_width': 'initial'}\n",
    "    )\n",
    "condition_limit = widgets.IntSlider(\n",
    "    value = int( data['condition'].mean() ),\n",
    "    min = data['condition'].min(),\n",
    "    max = data['condition'].max(),\n",
    "    step = 1,\n",
    "    description='Minimum condition',\n",
    "    disable=False,\n",
    "    style={'description_width': 'initial'}\n",
    "    )\n",
    "year_limit = widgets.IntSlider(\n",
    "    value = int( data['yr_built'].mean() ),\n",
    "    min = data['yr_built'].min(),\n",
    "    max = data['yr_built'].max(),\n",
    "    step = 1,\n",
    "    description='Year Built',\n",
    "    disable=False,\n",
    "    style={'description_width': 'initial'}\n",
    "    )\n"
   ]
  },
  {
   "cell_type": "code",
   "execution_count": 12,
   "id": "compressed-focus",
   "metadata": {},
   "outputs": [],
   "source": [
    "def update_map( df, waterfront, limit, livingroom_limit, bathroom_limit,basement_limit, condition_limit, year_limit ):\n",
    "    houses = df[(df['price'] <= limit) &\n",
    "            (df['is_waterfront'] == waterfront) &\n",
    "            (df['sqft_living'] >= livingroom_limit) &\n",
    "            (df['bathrooms'] >= bathroom_limit) &\n",
    "            (df['sqft_basement'] >= basement_limit) &\n",
    "            (df['condition'] >= condition_limit) &\n",
    "            (df['yr_built'] >= year_limit )][['id', 'lat', 'long', 'price','level']]\n",
    "        \n",
    "    fig = px.scatter_mapbox( houses,\n",
    "                             lat=\"lat\",\n",
    "                             lon=\"long\",\n",
    "                             size=\"price\",\n",
    "                             color=\"level\",\n",
    "                             color_continuous_scale=px.colors.cyclical.IceFire,\n",
    "                             size_max=15,\n",
    "                             zoom=10)\n",
    "    fig.update_layout(mapbox_style=\"open-street-map\")\n",
    "    fig.update_layout(height=600, margin={\"r\":0,\"t\":0,\"l\":0,\"b\":0})\n",
    "    fig.show()\n"
   ]
  },
  {
   "cell_type": "code",
   "execution_count": 13,
   "id": "retained-revelation",
   "metadata": {},
   "outputs": [
    {
     "data": {
      "application/vnd.jupyter.widget-view+json": {
       "model_id": "e763710bf4b643ec93aca523850a9454",
       "version_major": 2,
       "version_minor": 0
      },
      "text/plain": [
       "interactive(children=(Dropdown(description='Water View', index=1, options=('no', 'yes'), value='yes'), IntSlid…"
      ]
     },
     "metadata": {},
     "output_type": "display_data"
    }
   ],
   "source": [
    "widgets.interactive( update_map,\n",
    "                    df=fixed( data ),\n",
    "                    waterfront=waterfront_bar,\n",
    "                    limit=price_limit,\n",
    "                    livingroom_limit=livingroom_limit,\n",
    "                    bathroom_limit=bathroom_limit,\n",
    "                    basement_limit=basement_limit,\n",
    "                    condition_limit=condition_limit,\n",
    "                    year_limit=year_limit\n",
    "                    )"
   ]
  },
  {
   "cell_type": "markdown",
   "id": "trying-bottom",
   "metadata": {},
   "source": [
    "### 5.Adicione os seguintes filtros no DashBoard:\n",
    "    - Filtro por data disponivel para compra.\n",
    "    - Filtro por ano de renovação.\n",
    "    - Filtro se possui vista para a água ou não."
   ]
  },
  {
   "cell_type": "code",
   "execution_count": 14,
   "id": "similar-imaging",
   "metadata": {},
   "outputs": [],
   "source": [
    "# Change data format\n",
    "data['year'] = pd.to_datetime(data['date']).dt.strftime('%Y')\n",
    "data['date'] = pd.to_datetime(data['date']).dt.strftime('%Y-%m-%d')\n",
    "data['year_week'] = pd.to_datetime(data['date']).dt.strftime('%Y-%U')\n",
    "\n",
    "# Filtering\n",
    "\n",
    "date_limit = widgets.SelectionSlider(\n",
    "    options = data['date'].sort_values().unique().tolist(),\n",
    "    value = '2014-12-01',\n",
    "    description = 'Max Available Date',\n",
    "    disable = False,\n",
    "    orientation = 'horizontal',\n",
    "    style = {'description_width': 'initial'},\n",
    "    readout = True\n",
    ")\n",
    "\n",
    "#Max year Renovated\n",
    "year_limit = widgets.SelectionSlider(\n",
    "    options = data['yr_renovated'].sort_values().unique().tolist(),\n",
    "    value = 2000,\n",
    "    description = 'Max Year',\n",
    "    disable = False,\n",
    "    continuous_update = False,\n",
    "    orientation = 'horizontal',\n",
    "    style = {'description_width': 'initial'},\n",
    "    readout = True\n",
    ")\n",
    "\n",
    "# Waterfront\n",
    "waterfront_limit = widgets.Checkbox(\n",
    "    value =False,\n",
    "    description = 'Waterfront?',\n",
    "    disabled = False,\n",
    "    indent = False\n",
    ")\n",
    "\n",
    "def update_map(data, date_limit, year_limit, waterfront_limit):\n",
    "    #Filter data\n",
    "    df = data[(data['date']<=date_limit) &\n",
    "             (data['yr_renovated']>= year_limit) &\n",
    "             (data['waterfront'] == waterfront_limit)].copy()\n",
    "\n",
    "    fig = plt.figure(figsize = (24,12))\n",
    "    specs = gridspec.GridSpec(ncols = 2, nrows = 2, figure = fig)\n",
    "    \n",
    "    ax1 = fig.add_subplot(specs[0,:]) # First Row\n",
    "    ax2 = fig.add_subplot(specs[1,0]) # Second Row and First Column\n",
    "    ax3 = fig.add_subplot(specs[1,1]) # Second Row and Second Column\n",
    "    \n",
    "    by_year = df[['id', 'year']].groupby('year').sum().reset_index()\n",
    "    sns.barplot(x ='year', y ='id', data = by_year, ax = ax1)\n",
    "    \n",
    "    # First Graph\n",
    "    by_day = df[['id', 'date']].groupby('date').mean().reset_index()\n",
    "    sns.lineplot(x = 'date', y = 'id', data = by_day, ax = ax2)\n",
    "    ax2.set_title('Title: Avg Price by Day')\n",
    "    \n",
    "    df['year_week'] = pd.to_datetime(df['date']).dt.strftime('%Y-%U')\n",
    "    by_week_of_year = df[['id', 'year_week']].groupby('year_week').mean().reset_index()\n",
    "    sns.barplot(x = 'year_week', y = 'id', data = by_week_of_year, ax = ax3)\n",
    "    ax3.set_title('Title: Avg Price by week of Year')\n",
    "    plt.xticks(rotation=60);\n",
    "    "
   ]
  },
  {
   "cell_type": "code",
   "execution_count": 15,
   "id": "aboriginal-encounter",
   "metadata": {},
   "outputs": [
    {
     "data": {
      "application/vnd.jupyter.widget-view+json": {
       "model_id": "6b0fd8ff6fbb4fd29e2cc2a169d8d1db",
       "version_major": 2,
       "version_minor": 0
      },
      "text/plain": [
       "interactive(children=(SelectionSlider(description='Max Available Date', index=212, options=('2014-05-02', '201…"
      ]
     },
     "metadata": {},
     "output_type": "display_data"
    }
   ],
   "source": [
    "widgets.interactive(update_map,\n",
    "                   data = fixed(data),\n",
    "                   date_limit = date_limit,\n",
    "                   year_limit = year_limit,\n",
    "                   waterfront_limit = waterfront_limit)"
   ]
  },
  {
   "cell_type": "code",
   "execution_count": null,
   "id": "divine-shower",
   "metadata": {},
   "outputs": [],
   "source": []
  }
 ],
 "metadata": {
  "kernelspec": {
   "display_name": "Python 3",
   "language": "python",
   "name": "python3"
  },
  "language_info": {
   "codemirror_mode": {
    "name": "ipython",
    "version": 3
   },
   "file_extension": ".py",
   "mimetype": "text/x-python",
   "name": "python",
   "nbconvert_exporter": "python",
   "pygments_lexer": "ipython3",
   "version": "3.8.5"
  }
 },
 "nbformat": 4,
 "nbformat_minor": 5
}
